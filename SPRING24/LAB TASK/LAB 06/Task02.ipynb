{
  "nbformat": 4,
  "nbformat_minor": 0,
  "metadata": {
    "colab": {
      "provenance": [],
      "authorship_tag": "ABX9TyOa1fn/0d5An30dAZmf41Kc",
      "include_colab_link": true
    },
    "kernelspec": {
      "name": "python3",
      "display_name": "Python 3"
    },
    "language_info": {
      "name": "python"
    }
  },
  "cells": [
    {
      "cell_type": "markdown",
      "metadata": {
        "id": "view-in-github",
        "colab_type": "text"
      },
      "source": [
        "<a href=\"https://colab.research.google.com/github/MonowarHusain/CSE220_DATASTRUCTURES/blob/main/SPRING24/LAB%20TASK/LAB%2006/Task02.ipynb\" target=\"_parent\"><img src=\"https://colab.research.google.com/assets/colab-badge.svg\" alt=\"Open In Colab\"/></a>"
      ]
    },
    {
      "cell_type": "code",
      "execution_count": 1,
      "metadata": {
        "colab": {
          "base_uri": "https://localhost:8080/"
        },
        "id": "KDRd996grwAX",
        "outputId": "5896442a-6a02-4953-8e4e-2cb7af95d3ef"
      },
      "outputs": [
        {
          "output_type": "stream",
          "name": "stdout",
          "text": [
            "Collecting fhm-unittest\n",
            "  Downloading fhm_unittest-1.0.1-py3-none-any.whl (2.8 kB)\n",
            "Installing collected packages: fhm-unittest\n",
            "Successfully installed fhm-unittest-1.0.1\n",
            "Collecting fuzzywuzzy\n",
            "  Downloading fuzzywuzzy-0.18.0-py2.py3-none-any.whl (18 kB)\n",
            "Installing collected packages: fuzzywuzzy\n",
            "Successfully installed fuzzywuzzy-0.18.0\n"
          ]
        },
        {
          "output_type": "stream",
          "name": "stderr",
          "text": [
            "/usr/local/lib/python3.10/dist-packages/fuzzywuzzy/fuzz.py:11: UserWarning: Using slow pure-python SequenceMatcher. Install python-Levenshtein to remove this warning\n",
            "  warnings.warn('Using slow pure-python SequenceMatcher. Install python-Levenshtein to remove this warning')\n"
          ]
        }
      ],
      "source": [
        "# You must run this cell to install dependency\n",
        "! pip3 install fhm-unittest\n",
        "! pip3 install fuzzywuzzy\n",
        "import fhm_unittest as unittest\n",
        "import numpy as np"
      ]
    },
    {
      "cell_type": "markdown",
      "source": [
        "Task 2\n",
        "\n",
        "Complete the following methods:\n",
        "\n",
        "__hash_function()\n",
        "\n",
        "search_hashtable()"
      ],
      "metadata": {
        "id": "MlgeE2Zmr4Ll"
      }
    },
    {
      "cell_type": "code",
      "source": [
        "class Node_pair:\n",
        "  def __init__(self, key, value, next = None):\n",
        "    self.key, self.value, self.next = key, value, next\n",
        "\n",
        "\n",
        "class Hashtable:\n",
        "  def __init__(self, size):\n",
        "    self.ht = [None]*size\n",
        "\n",
        "\n",
        "  def insert(self, s):\n",
        "    if self.search_hashtable(s) == 'Found':\n",
        "      print(s,'Already Inserted. Cannot reinsert.')\n",
        "      print('===============================')\n",
        "      return\n",
        "    hashed_index = self.__hash_function(s[0])\n",
        "    pair = Node_pair(s[0], s[1])\n",
        "    if self.ht[hashed_index] == None:\n",
        "      self.ht[hashed_index] = pair\n",
        "    else:\n",
        "      pair.next = self.ht[hashed_index]\n",
        "      self.ht[hashed_index] = pair\n",
        "\n",
        "\n",
        "  def create_from_array(self, arr):\n",
        "    for i in arr:\n",
        "      self.insert(i)\n",
        "\n",
        "  def print_hashtable(self):\n",
        "    idx = 0\n",
        "    for i in self.ht:\n",
        "      print(idx, ':', end = ' ')\n",
        "      head = i\n",
        "      while head != None:\n",
        "        print(f'(key: {head.key}, value: {head.value})', end = '-->')\n",
        "        head = head.next\n",
        "      print('None')\n",
        "      print()\n",
        "      idx += 1\n",
        "\n",
        "\n",
        "  #Do it by yourself\n",
        "  def __hash_function(self, key):\n",
        "    #TO DO\n",
        "    if len(key)%2 != 0 :\n",
        "      key+='N'\n",
        "\n",
        "    sum=0\n",
        "\n",
        "    for i in range(0,len(key),2):\n",
        "      temp_sum = str(ord(key[i]))+str(ord(key[i+1]))\n",
        "      sum+=int(temp_sum)\n",
        "\n",
        "      return sum%len(self.ht)\n",
        "\n",
        "\n",
        "  #Do it by yourself\n",
        "  def search_hashtable(self, s):\n",
        "    #TO DO\n",
        "    key, val = s\n",
        "    idx= self.__hash_function(key)\n",
        "\n",
        "    if idx == None:\n",
        "      return 'Not Found'\n",
        "\n",
        "    temp = self.ht[idx]\n",
        "\n",
        "    while temp!=None:\n",
        "      if temp.key == key:\n",
        "        return 'Found'\n",
        "      temp=temp.next\n",
        "\n"
      ],
      "metadata": {
        "id": "SkOtzN0Arzl9"
      },
      "execution_count": 2,
      "outputs": []
    },
    {
      "cell_type": "code",
      "source": [
        "#Driver Code\n",
        "arr = [('Colt', 360), ('Cordelius', 730), ('Shelly', 300), ('Doug', 1200), ('Emz', 520), ('Bo', 580)]\n",
        "ht = Hashtable(5)\n",
        "ht.create_from_array(arr)\n",
        "ht.print_hashtable()\n",
        "\n",
        "print('======================')\n",
        "result = ht.search_hashtable(('Doug', 1200))\n",
        "unittest.output_test(result, 'Found')\n",
        "print(f'(Doug, 1200) {result}')\n",
        "\n",
        "print('======================')\n",
        "ht.insert(('Doug', 1200))\n",
        "ht.print_hashtable()\n",
        "\n",
        "print('======================')\n",
        "result = ht.search_hashtable(('Edgar', 320))\n",
        "unittest.output_test(result, 'Not Found')\n",
        "print(f'(Edgar, 320) {result}')\n",
        "\n",
        "print('======================')\n",
        "ht.insert(('Edgar', 320))\n",
        "ht.print_hashtable()\n",
        "\n",
        "print('======================')\n",
        "result = ht.search_hashtable(('Edgar', 320))\n",
        "unittest.output_test(result, 'Found')\n",
        "print(f'(Edgar, 320) {result}')"
      ],
      "metadata": {
        "colab": {
          "base_uri": "https://localhost:8080/"
        },
        "id": "Qkir0BLrr9J3",
        "outputId": "016d6b18-1330-47bd-d04f-4e37607d2e3a"
      },
      "execution_count": 3,
      "outputs": [
        {
          "output_type": "stream",
          "name": "stdout",
          "text": [
            "0 : None\n",
            "\n",
            "1 : (key: Bo, value: 580)-->(key: Doug, value: 1200)-->(key: Cordelius, value: 730)-->(key: Colt, value: 360)-->None\n",
            "\n",
            "2 : None\n",
            "\n",
            "3 : None\n",
            "\n",
            "4 : (key: Emz, value: 520)-->(key: Shelly, value: 300)-->None\n",
            "\n",
            "======================\n",
            "Accepted\n",
            "(Doug, 1200) Found\n",
            "======================\n",
            "('Doug', 1200) Already Inserted. Cannot reinsert.\n",
            "===============================\n",
            "0 : None\n",
            "\n",
            "1 : (key: Bo, value: 580)-->(key: Doug, value: 1200)-->(key: Cordelius, value: 730)-->(key: Colt, value: 360)-->None\n",
            "\n",
            "2 : None\n",
            "\n",
            "3 : None\n",
            "\n",
            "4 : (key: Emz, value: 520)-->(key: Shelly, value: 300)-->None\n",
            "\n",
            "======================\n",
            "Wrong Answer [Your output: None  |  Expected Output: Not Found]\n",
            "(Edgar, 320) None\n",
            "======================\n",
            "0 : (key: Edgar, value: 320)-->None\n",
            "\n",
            "1 : (key: Bo, value: 580)-->(key: Doug, value: 1200)-->(key: Cordelius, value: 730)-->(key: Colt, value: 360)-->None\n",
            "\n",
            "2 : None\n",
            "\n",
            "3 : None\n",
            "\n",
            "4 : (key: Emz, value: 520)-->(key: Shelly, value: 300)-->None\n",
            "\n",
            "======================\n",
            "Accepted\n",
            "(Edgar, 320) Found\n"
          ]
        }
      ]
    }
  ]
}