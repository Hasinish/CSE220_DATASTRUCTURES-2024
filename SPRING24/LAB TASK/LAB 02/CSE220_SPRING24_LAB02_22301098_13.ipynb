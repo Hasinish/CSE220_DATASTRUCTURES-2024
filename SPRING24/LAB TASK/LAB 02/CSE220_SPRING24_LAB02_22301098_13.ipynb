{
  "nbformat": 4,
  "nbformat_minor": 0,
  "metadata": {
    "colab": {
      "provenance": [],
      "include_colab_link": true
    },
    "kernelspec": {
      "name": "python3",
      "display_name": "Python 3"
    },
    "language_info": {
      "name": "python"
    }
  },
  "cells": [
    {
      "cell_type": "markdown",
      "metadata": {
        "id": "view-in-github",
        "colab_type": "text"
      },
      "source": [
        "<a href=\"https://colab.research.google.com/github/MonowarHusain/CSE220_DATASTRUCTURES/blob/main/SPRING24/LAB%20TASK/LAB%2002/CSE220_SPRING24_LAB02_22301098_13.ipynb\" target=\"_parent\"><img src=\"https://colab.research.google.com/assets/colab-badge.svg\" alt=\"Open In Colab\"/></a>"
      ]
    },
    {
      "cell_type": "code",
      "execution_count": null,
      "metadata": {
        "id": "Idmd2Tq1dCbp",
        "colab": {
          "base_uri": "https://localhost:8080/"
        },
        "outputId": "cbb9e730-0cad-4043-d175-59163fd63c16"
      },
      "outputs": [
        {
          "output_type": "stream",
          "name": "stdout",
          "text": [
            "Collecting fhm-unittest\n",
            "  Downloading fhm_unittest-1.0.1-py3-none-any.whl (2.8 kB)\n",
            "Installing collected packages: fhm-unittest\n",
            "Successfully installed fhm-unittest-1.0.1\n",
            "Collecting fuzzywuzzy\n",
            "  Downloading fuzzywuzzy-0.18.0-py2.py3-none-any.whl (18 kB)\n",
            "Installing collected packages: fuzzywuzzy\n",
            "Successfully installed fuzzywuzzy-0.18.0\n"
          ]
        },
        {
          "output_type": "stream",
          "name": "stderr",
          "text": [
            "/usr/local/lib/python3.10/dist-packages/fuzzywuzzy/fuzz.py:11: UserWarning: Using slow pure-python SequenceMatcher. Install python-Levenshtein to remove this warning\n",
            "  warnings.warn('Using slow pure-python SequenceMatcher. Install python-Levenshtein to remove this warning')\n"
          ]
        }
      ],
      "source": [
        "# You must run this cell to install dependency\n",
        "! pip3 install fhm-unittest\n",
        "! pip3 install fuzzywuzzy\n",
        "import fhm_unittest as unittest\n",
        "import numpy as np"
      ]
    },
    {
      "cell_type": "code",
      "source": [],
      "metadata": {
        "id": "BGfg8zf7Xahp"
      },
      "execution_count": null,
      "outputs": []
    },
    {
      "cell_type": "code",
      "source": [
        "#You must run this cell to print matrix and for the driver code to work\n",
        "def print_matrix(m):\n",
        "  row,col = m.shape\n",
        "  for i in range(row):\n",
        "    c = 1\n",
        "    print('|', end='')\n",
        "    for j in range(col):\n",
        "      c += 1\n",
        "      if(len(str(m[i][j])) == 1):\n",
        "        print(' ',m[i][j], end = '  |')\n",
        "        c += 6\n",
        "      else:\n",
        "        print(' ',m[i][j], end = ' |')\n",
        "        c += 6\n",
        "    print()\n",
        "    print('-'*(c-col))\n",
        "\n"
      ],
      "metadata": {
        "id": "8fJsXKBfdTyA"
      },
      "execution_count": null,
      "outputs": []
    },
    {
      "cell_type": "markdown",
      "source": [
        "Task 1: Zigzag Walk"
      ],
      "metadata": {
        "id": "bPtgo9m-d0D3"
      }
    },
    {
      "cell_type": "code",
      "source": [
        "def walk_zigzag(floor):\n",
        "  #TO DO\n",
        "    row = floor.shape[0]\n",
        "    col = floor.shape[1]\n",
        "    x= ''\n",
        "    m = ''\n",
        "\n",
        "    if col%2==0:\n",
        "        for i in range(col):\n",
        "                if i%2 == 0:\n",
        "                    for j in range(row):\n",
        "                        if j%2 ==0:\n",
        "                            x+=floor[j][i]+' '\n",
        "                        else:\n",
        "                            continue\n",
        "\n",
        "                    m+= f'{x}\\n'\n",
        "                    x=''\n",
        "                else:\n",
        "                    for j in range(row-1,0-1):\n",
        "                        if j%2!=0:\n",
        "                            x+=floor[j][i]+' '\n",
        "                    m+= f'{x}\\n'\n",
        "                    x=''\n",
        "        print(m)\n",
        "    else:\n",
        "        for i in range(col):\n",
        "                if i%2 == 0:\n",
        "                    for j in range(row):\n",
        "                        if j%2 ==0:\n",
        "                            x+=floor[j][i]+' '\n",
        "                        else:\n",
        "                            continue\n",
        "                    m+= f'{x}\\n'\n",
        "                    x=''\n",
        "                else:\n",
        "                    for j in range(row-1,0,-1):\n",
        "                        if j%2!=0:\n",
        "                            x+=floor[j][i]+' '\n",
        "                    m+= f'{x}\\n'\n",
        "                    x=''\n",
        "        print(m)\n",
        "\n",
        "floor = np.array([[ '3' , '8' , '4' , '6' , '1'],\n",
        "                  ['7' , '2' , '1' , '9' , '3'],\n",
        "                  ['9' , '0' , '7' , '5' , '8'],\n",
        "                  ['2' , '1' , '3' , '4' , '0'],\n",
        "                  ['1' , '4' , '2' , '8' , '6']]\n",
        "                )\n",
        "\n",
        "\n",
        "\n",
        "# print_matrix(floor)\n",
        "print('Walking Sequence:')\n",
        "walk_zigzag(floor)\n",
        "#This should print\n",
        "# 3 9 1\n",
        "# 1 2\n",
        "# 4 7 2\n",
        "# 4 9\n",
        "# 1 8 6\n",
        "print('################')\n",
        "floor = np.array([[ '3' , '8' , '4' , '6' , '1'],\n",
        "                  ['7' , '2' , '1' , '9' , '3'],\n",
        "                  ['9' , '0' , '7' , '5' , '8'],\n",
        "                  ['2' , '1' , '3' , '4' , '0']]\n",
        "                )\n",
        "\n",
        "# print_matrix(floor)\n",
        "print('Walking Sequence:')\n",
        "walk_zigzag(floor)\n",
        "# #This should print\n",
        "# # 3 9\n",
        "# # 1 2\n",
        "# # 4 7\n",
        "# # 4 9\n",
        "# # 1 8"
      ],
      "metadata": {
        "id": "t258US3qdYJA",
        "colab": {
          "base_uri": "https://localhost:8080/"
        },
        "outputId": "0465d0cc-2a75-4521-8ecb-558d4acedc25"
      },
      "execution_count": null,
      "outputs": [
        {
          "output_type": "stream",
          "name": "stdout",
          "text": [
            "Walking Sequence:\n",
            "3 9 1 \n",
            "1 2 \n",
            "4 7 2 \n",
            "4 9 \n",
            "1 8 6 \n",
            "\n",
            "################\n",
            "Walking Sequence:\n",
            "3 9 \n",
            "1 2 \n",
            "4 7 \n",
            "4 9 \n",
            "1 8 \n",
            "\n"
          ]
        }
      ]
    },
    {
      "cell_type": "markdown",
      "source": [
        "Task 2: Row Rotation Policy of BRACU Classroom"
      ],
      "metadata": {
        "id": "pqub59w9du-g"
      }
    },
    {
      "cell_type": "code",
      "source": [
        "def row_rotation(exam_week, seat_status):\n",
        "\n",
        "    new_status = seat_status\n",
        "    row = new_status.shape[0]\n",
        "    col = new_status.shape[1]\n",
        "    w=exam_week\n",
        "\n",
        "    temp_arr = [None]*col\n",
        "    k =1\n",
        "    while k<w:\n",
        "        for i in range(0,col):\n",
        "            temp_arr[i] = new_status[row-1][i]\n",
        "        i = row-1\n",
        "        while i>0:\n",
        "            for j in range(0,col):\n",
        "                new_status[i][j] = new_status[i-1][j]\n",
        "            i-=1\n",
        "        for i in range(0,col):\n",
        "            new_status[0][i] = temp_arr[i]\n",
        "        temp_arr = [None]*col\n",
        "        k+=1\n",
        "    # print(new_status)\n",
        "    print_matrix(new_status)\n",
        "    # return new_status\n",
        "    row_number=1\n",
        "    for i in new_status:\n",
        "        if 'AA' in i:\n",
        "            return row_number\n",
        "        else:\n",
        "            row_number+=1\n",
        "\n",
        "\n",
        "seat_status = np.array([[ 'A' , 'B' , 'C' , 'D' , 'E'],\n",
        "                  ['F' , 'G' , 'H' , 'I' , 'J'],\n",
        "                  ['K' , 'L' , 'M' , 'N' , 'O'],\n",
        "                  ['P' , 'Q' , 'R' , 'S' , 'T'],\n",
        "                  ['U' , 'V' , 'W' , 'X' , 'Y'],\n",
        "                  ['Z' , 'AA' , 'BB' , 'CC' , 'DD']])\n",
        "exam_week=3\n",
        "print_matrix(seat_status)\n",
        "print()\n",
        "row_number=row_rotation(exam_week, seat_status) #This should print modified seat status after rotation\n",
        "print(f'Your friend AA will be on row {row_number}') #This should print Your friend AA will be on row 2"
      ],
      "metadata": {
        "id": "rChTGTHQdepv",
        "colab": {
          "base_uri": "https://localhost:8080/"
        },
        "outputId": "b0bcb0e6-5911-4e1a-da0f-d7851cb1f2e6"
      },
      "execution_count": null,
      "outputs": [
        {
          "output_type": "stream",
          "name": "stdout",
          "text": [
            "|  A  |  B  |  C  |  D  |  E  |\n",
            "-------------------------------\n",
            "|  F  |  G  |  H  |  I  |  J  |\n",
            "-------------------------------\n",
            "|  K  |  L  |  M  |  N  |  O  |\n",
            "-------------------------------\n",
            "|  P  |  Q  |  R  |  S  |  T  |\n",
            "-------------------------------\n",
            "|  U  |  V  |  W  |  X  |  Y  |\n",
            "-------------------------------\n",
            "|  Z  |  AA |  BB |  CC |  DD |\n",
            "-------------------------------\n",
            "\n",
            "|  U  |  V  |  W  |  X  |  Y  |\n",
            "-------------------------------\n",
            "|  Z  |  AA |  BB |  CC |  DD |\n",
            "-------------------------------\n",
            "|  A  |  B  |  C  |  D  |  E  |\n",
            "-------------------------------\n",
            "|  F  |  G  |  H  |  I  |  J  |\n",
            "-------------------------------\n",
            "|  K  |  L  |  M  |  N  |  O  |\n",
            "-------------------------------\n",
            "|  P  |  Q  |  R  |  S  |  T  |\n",
            "-------------------------------\n",
            "Your friend AA will be on row 2\n"
          ]
        }
      ]
    },
    {
      "cell_type": "markdown",
      "source": [
        "Task 3: Matrix Manipulation"
      ],
      "metadata": {
        "id": "nbt_Gzv0fBtX"
      }
    },
    {
      "cell_type": "code",
      "source": [
        "def reverse_Matrix(matrix):\n",
        "  #TO DO\n",
        "    matrix1 = matrix\n",
        "    row = matrix1.shape[0]\n",
        "    col = matrix1.shape[1]\n",
        "    n = np.zeros((row,col),dtype = int)\n",
        "    # k = [[0]*col]*row\n",
        "    # print(n)\n",
        "\n",
        "    for i in range(0,row):\n",
        "        for j in range(0,col):\n",
        "            n[i,j] = matrix1[(row-1)-i][(col-1)-j]\n",
        "            # k[i][j] = matrix1[(row-1)-i][(col-1)-j]\n",
        "        #     print(f'i: {i}, j: {j} ele: {matrix1[(row-1)-i][(col-1)-j]} New: {n[i][j]}')\n",
        "        # print(k)\n",
        "    # else:\n",
        "    #     for i in range(row):\n",
        "    #             for j in range(col):\n",
        "    #                     n[i][j] = matrix[row-1-i][col-1-j]\n",
        "\n",
        "    # print(n)\n",
        "    return n\n",
        "matrix = np.array([\n",
        "[14,  8,  0,  4],\n",
        "[9,  8,  13,  13],\n",
        "[9,  3,  1,  4],\n",
        "[2,  10,  13,  6]\n",
        "])\n",
        "print_matrix(matrix)\n",
        "print('################')\n",
        "print()\n",
        "reversed_matrix = reverse_Matrix(matrix)\n",
        "print_matrix(reversed_matrix)\n",
        "\n",
        "#This should print\n",
        "#|  6  |  13 |  10 |  2  |\n",
        "#-------------------------\n",
        "#|  4  |  1  |  3  |  9  |\n",
        "#-------------------------\n",
        "#|  13  |  13  |  8 |  9 |\n",
        "#-------------------------\n",
        "#|  4 |  0  |  8  |  14  |\n",
        "#-------------------------\n"
      ],
      "metadata": {
        "id": "kger_tJ7fDwW",
        "colab": {
          "base_uri": "https://localhost:8080/"
        },
        "outputId": "6d71f727-56a4-4766-8dbe-fb0d04ba4f4a"
      },
      "execution_count": null,
      "outputs": [
        {
          "output_type": "stream",
          "name": "stdout",
          "text": [
            "|  14 |  8  |  0  |  4  |\n",
            "-------------------------\n",
            "|  9  |  8  |  13 |  13 |\n",
            "-------------------------\n",
            "|  9  |  3  |  1  |  4  |\n",
            "-------------------------\n",
            "|  2  |  10 |  13 |  6  |\n",
            "-------------------------\n",
            "################\n",
            "\n",
            "|  6  |  13 |  10 |  2  |\n",
            "-------------------------\n",
            "|  4  |  1  |  3  |  9  |\n",
            "-------------------------\n",
            "|  13 |  13 |  8  |  9  |\n",
            "-------------------------\n",
            "|  4  |  0  |  8  |  14 |\n",
            "-------------------------\n"
          ]
        }
      ]
    },
    {
      "cell_type": "markdown",
      "source": [
        "Task 4: Chess Piece"
      ],
      "metadata": {
        "id": "b0wfGjWyftxX"
      }
    },
    {
      "cell_type": "code",
      "source": [
        "def show_knight_move(knight):\n",
        "  #To Do\n",
        "    board = np.zeros((8,8), dtype = int)\n",
        "    r, c = knight\n",
        "    pos_move = np.array([(-2,+1),(-2,-1),(+2,+1),(+2,-1),(-1,-2),(+1,-2),(-1,+2),(+1,+2)])\n",
        "    board[r][c] = 66\n",
        "    for mn in pos_move:\n",
        "        i,j = mn\n",
        "        if r+i>=0 and r+i<8 and c+j>=0 and c+j<8:\n",
        "            board[r+i,c+j] = 3\n",
        "    return board\n",
        "\n",
        "\n",
        "knight = (3,4)\n",
        "chess_board = show_knight_move(knight)\n",
        "print_matrix(chess_board)\n",
        "#This Should print\n",
        "#| 0 | 0 | 0 | 0 | 0 | 0 | 0 | 0 |\n",
        "#------------------------------------------\n",
        "#| 0 | 0 | 0 | 3 | 0 | 3 | 0 | 0 |\n",
        "#------------------------------------------\n",
        "#| 0 | 0 | 3 | 0 | 0 | 0 | 3 | 0 |\n",
        "#------------------------------------------\n",
        "#| 0 | 0 | 0 | 0 | 66 | 0 | 0 | 0 |\n",
        "#------------------------------------------\n",
        "#| 0 | 0 | 3 | 0 | 0 | 0 | 3 | 0 |\n",
        "#------------------------------------------\n",
        "#| 0 | 0 | 0 | 3 | 0 | 3 | 0 | 0 |\n",
        "#------------------------------------------\n",
        "#| 0 | 0 | 0 | 0 | 0 | 0 | 0 | 0 |\n",
        "#------------------------------------------\n",
        "#| 0 | 0 | 0 | 0 | 0 | 0 | 0 | 0 |\n",
        "#-----------------------------------------"
      ],
      "metadata": {
        "id": "FSrQG6Jpfzo3",
        "colab": {
          "base_uri": "https://localhost:8080/"
        },
        "outputId": "56b94371-9a06-4137-c4ce-04dd074672ed"
      },
      "execution_count": null,
      "outputs": [
        {
          "output_type": "stream",
          "name": "stdout",
          "text": [
            "|  0  |  0  |  0  |  0  |  0  |  0  |  0  |  0  |\n",
            "-------------------------------------------------\n",
            "|  0  |  0  |  0  |  3  |  0  |  3  |  0  |  0  |\n",
            "-------------------------------------------------\n",
            "|  0  |  0  |  3  |  0  |  0  |  0  |  3  |  0  |\n",
            "-------------------------------------------------\n",
            "|  0  |  0  |  0  |  0  |  66 |  0  |  0  |  0  |\n",
            "-------------------------------------------------\n",
            "|  0  |  0  |  3  |  0  |  0  |  0  |  3  |  0  |\n",
            "-------------------------------------------------\n",
            "|  0  |  0  |  0  |  3  |  0  |  3  |  0  |  0  |\n",
            "-------------------------------------------------\n",
            "|  0  |  0  |  0  |  0  |  0  |  0  |  0  |  0  |\n",
            "-------------------------------------------------\n",
            "|  0  |  0  |  0  |  0  |  0  |  0  |  0  |  0  |\n",
            "-------------------------------------------------\n"
          ]
        }
      ]
    },
    {
      "cell_type": "markdown",
      "source": [
        "Task 5: Matrix Compression"
      ],
      "metadata": {
        "id": "zWd3LAbsGEDS"
      }
    },
    {
      "cell_type": "code",
      "source": [
        "def compress_matrix(mat):\n",
        "    mat1 = mat\n",
        "    row = mat1.shape[0]\n",
        "    col = mat1.shape[1]\n",
        "\n",
        "    new_mat = np.zeros((row//2,col//2),dtype = int)\n",
        "\n",
        "    for i in range(0,row,2):\n",
        "        for j in range(0,col,2):\n",
        "            temp = mat1[i][j] + mat1[i+1][j] + mat1[i][j+1] + mat1[i+1][j+1]\n",
        "            new_mat[i//2][j//2] = temp\n",
        "\n",
        "    return new_mat\n",
        "    print(new_mat)\n",
        "matrix=np.array([[1,2,3,4],\n",
        "                 [5,6,7,8],\n",
        "                 [1,3,5,2],\n",
        "                 [-2,0,6,-3]\n",
        "                 ])\n",
        "print_matrix(matrix)\n",
        "print('################')\n",
        "print()\n",
        "returned_array=compress_matrix(matrix)\n",
        "print_matrix(returned_array)\n",
        "#This should print\n",
        "#|  14  |  22 |\n",
        "#--------------\n",
        "#|  2  |  10  |\n",
        "#--------------"
      ],
      "metadata": {
        "id": "9oIzitXSGJXa",
        "colab": {
          "base_uri": "https://localhost:8080/"
        },
        "outputId": "cf06e893-9bd4-46a9-fada-51ca125d1eb4"
      },
      "execution_count": null,
      "outputs": [
        {
          "output_type": "stream",
          "name": "stdout",
          "text": [
            "|  1  |  2  |  3  |  4  |\n",
            "-------------------------\n",
            "|  5  |  6  |  7  |  8  |\n",
            "-------------------------\n",
            "|  1  |  3  |  5  |  2  |\n",
            "-------------------------\n",
            "|  -2 |  0  |  6  |  -3 |\n",
            "-------------------------\n",
            "################\n",
            "\n",
            "|  14 |  22 |\n",
            "-------------\n",
            "|  2  |  10 |\n",
            "-------------\n"
          ]
        }
      ]
    },
    {
      "cell_type": "markdown",
      "source": [
        "Task 6: Game Arena"
      ],
      "metadata": {
        "id": "AtJGXnG1I687"
      }
    },
    {
      "cell_type": "code",
      "source": [
        "def play_game(arena):\n",
        "  #TO DO\n",
        "    arena = arena\n",
        "    row,col = arena.shape\n",
        "    pos = np.array([(-1,0),(+1,0),(0,-1),(0,+1)])\n",
        "    temp = 0\n",
        "    for i in range(row):\n",
        "        for j in range(col):\n",
        "            if arena[i][j]% 50==0 and arena[i][j]>0 :\n",
        "                r1,c1 = i,j\n",
        "                # print(f'm{r1},{c1}') #okk\n",
        "                for mn in pos:\n",
        "                    # print(mn)\n",
        "                    # k,l = mn\n",
        "                    k = int(mn[0])\n",
        "                    l = int(mn[1])\n",
        "                    if i+k>=0 and i+k<row and j+l>=0 and j+l<col:\n",
        "                        if arena[i+k,j+l] == 2:\n",
        "                            # print(arena[i+k,j+l])\n",
        "                            temp+= arena[i+k,j+l]\n",
        "                        else:\n",
        "                            continue\n",
        "    if temp>=10:\n",
        "        print(f'Points Gained: {temp}. Your team has survived the game.')\n",
        "    else:\n",
        "        print(f'Points Gained: {temp}. Your team is out.')\n",
        "\n",
        "\n",
        "arena=np.array([[0,2,2,0],\n",
        "                [50,1,2,0],\n",
        "                [2,2,2,0],\n",
        "                [1,100,2,0]\n",
        "                ])\n",
        "print_matrix(arena)\n",
        "play_game(arena)\n",
        "#This should print\n",
        "#Points Gained: 6. Your team is out.\n",
        "\n",
        "print(\".....................\")\n",
        "arena=np.array([[0,2,2,0,2],\n",
        "                [1,50,2,1,100],\n",
        "                [2,2,2,0,2],\n",
        "                [0,200,2,0,0]\n",
        "                ])\n",
        "print_matrix(arena)\n",
        "play_game(arena)\n",
        "#This should print\n",
        "#Points Gained: 14. Your team has survived the game."
      ],
      "metadata": {
        "id": "P5rvZJuWI-GC",
        "colab": {
          "base_uri": "https://localhost:8080/"
        },
        "outputId": "2ca8cc4a-cae4-4155-ce38-fb2e43140dee"
      },
      "execution_count": null,
      "outputs": [
        {
          "output_type": "stream",
          "name": "stdout",
          "text": [
            "|  0  |  2  |  2  |  0  |\n",
            "-------------------------\n",
            "|  50 |  1  |  2  |  0  |\n",
            "-------------------------\n",
            "|  2  |  2  |  2  |  0  |\n",
            "-------------------------\n",
            "|  1  |  100 |  2  |  0  |\n",
            "-------------------------\n",
            "Points Gained: 6. Your team is out.\n",
            ".....................\n",
            "|  0  |  2  |  2  |  0  |  2  |\n",
            "-------------------------------\n",
            "|  1  |  50 |  2  |  1  |  100 |\n",
            "-------------------------------\n",
            "|  2  |  2  |  2  |  0  |  2  |\n",
            "-------------------------------\n",
            "|  0  |  200 |  2  |  0  |  0  |\n",
            "-------------------------------\n",
            "Points Gained: 14. Your team has survived the game.\n"
          ]
        }
      ]
    },
    {
      "cell_type": "markdown",
      "source": [
        "Bonus Task: Primary vs Secondary Diagonal"
      ],
      "metadata": {
        "id": "svFnEuyNHeKy"
      }
    },
    {
      "cell_type": "code",
      "source": [
        "def check_Diagonal(matrix1, matrix2):\n",
        "  #TO DO\n",
        "    mat1 = matrix1\n",
        "    mat2 = matrix2\n",
        "    col,row = mat1.shape\n",
        "    dia1 = np.zeros(col,dtype = int)\n",
        "    dia2 = np.zeros(col,dtype = int)\n",
        "    f = 0\n",
        "    if col>=3:\n",
        "        i=col-1\n",
        "        j = 0\n",
        "        while j<col:\n",
        "            dia1[j] = mat1[i][j]\n",
        "            i-=1\n",
        "            j+=1\n",
        "        # print(dia1)\n",
        "        for i in range(0,col):\n",
        "            dia2[i] = mat2[i][i]\n",
        "        # print(dia2)\n",
        "        for i in range(col):\n",
        "            if dia1[i]==dia2[i]:\n",
        "                f=1\n",
        "            else:\n",
        "                f=0\n",
        "                break\n",
        "    else:\n",
        "        pass\n",
        "    if f == 0:\n",
        "        print('No')\n",
        "    else:\n",
        "        print('Yes')\n",
        "array1 = np.array([[0, 4, 1], [7, 2, 5], [3, 6, 0]])\n",
        "array2 = np.array([[3, 6, 0], [5, 2, 7], [0, 4, 1]])\n",
        "\n",
        "check_Diagonal(array1, array2) #This should print YES\n",
        "print(\".............\")\n",
        "array1 = np.array([[0, 9, 9, 1], [9, 0, 2, 9], [9, 3, 0, 9], [4, 9, 9, 0]])\n",
        "array2 = np.array([[4, 9, 9, 0], [9, 0, 3, 9], [9, 0, 2, 9], [0, 9, 5, 1]])\n",
        "\n",
        "check_Diagonal (array1, array2) #This should print NO\n"
      ],
      "metadata": {
        "id": "IgNeWdF1Hjxe",
        "colab": {
          "base_uri": "https://localhost:8080/"
        },
        "outputId": "4ad48069-dff9-41e3-8650-32becb3fc5a3"
      },
      "execution_count": null,
      "outputs": [
        {
          "output_type": "stream",
          "name": "stdout",
          "text": [
            "Yes\n",
            ".............\n",
            "No\n"
          ]
        }
      ]
    }
  ]
}