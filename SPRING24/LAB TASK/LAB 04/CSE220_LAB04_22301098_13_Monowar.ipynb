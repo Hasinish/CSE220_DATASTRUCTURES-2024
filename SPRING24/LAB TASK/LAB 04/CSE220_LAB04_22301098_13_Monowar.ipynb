{
  "nbformat": 4,
  "nbformat_minor": 0,
  "metadata": {
    "colab": {
      "provenance": []
    },
    "kernelspec": {
      "name": "python3",
      "display_name": "Python 3"
    },
    "language_info": {
      "name": "python"
    }
  },
  "cells": [
    {
      "cell_type": "code",
      "execution_count": 17,
      "metadata": {
        "id": "Pp1R95Pe7ID2",
        "colab": {
          "base_uri": "https://localhost:8080/"
        },
        "outputId": "9d2d2191-3048-4f77-b090-cb93b66f6db2"
      },
      "outputs": [
        {
          "output_type": "stream",
          "name": "stdout",
          "text": [
            "Requirement already satisfied: fhm-unittest in /usr/local/lib/python3.10/dist-packages (1.0.1)\n",
            "Requirement already satisfied: fuzzywuzzy in /usr/local/lib/python3.10/dist-packages (0.18.0)\n"
          ]
        }
      ],
      "source": [
        " # You must run this cell to install dependency\n",
        "! pip3 install fhm-unittest\n",
        "! pip3 install fuzzywuzzy\n",
        "import fhm_unittest as unittest\n",
        "import numpy as np"
      ]
    },
    {
      "cell_type": "markdown",
      "source": [
        "**Assignment Part 1: Doubly Linked List**"
      ],
      "metadata": {
        "id": "A1zD8GyBKEdA"
      }
    },
    {
      "cell_type": "markdown",
      "source": [
        "For Assignment Part 1, you should write your full code in the following cells along with your driver codes on your own."
      ],
      "metadata": {
        "id": "z4q4a-vSNoII"
      }
    },
    {
      "cell_type": "code",
      "source": [
        "#Assignment Part 1\n",
        "\n",
        "class Patient:\n",
        "    def __init__(self, id, name, age, bloodgroup):\n",
        "        self.id = id\n",
        "        self.name = name\n",
        "        self.age = age\n",
        "        self.bloodgroup = bloodgroup\n",
        "        self.next = None\n",
        "        self.prev = None"
      ],
      "metadata": {
        "id": "itoWpG7oNziA"
      },
      "execution_count": 24,
      "outputs": []
    },
    {
      "cell_type": "code",
      "source": [
        "class WRM:\n",
        "    def __init__(self):\n",
        "        self.head = None\n",
        "        self.tail = None\n",
        "\n",
        "    def registerPatient(self, id, name, age, bloodgroup):\n",
        "        new_patient = Patient(id, name, age, bloodgroup)\n",
        "        if not self.head:\n",
        "            self.head = new_patient\n",
        "            self.tail = new_patient\n",
        "            new_patient.next = new_patient\n",
        "            new_patient.prev = new_patient\n",
        "        else:\n",
        "            new_patient.next = self.head\n",
        "            new_patient.prev = self.tail\n",
        "            self.tail.next = new_patient\n",
        "            self.head.prev = new_patient\n",
        "            self.tail = new_patient\n",
        "\n",
        "    def ServePatient(self):\n",
        "        if self.head:\n",
        "            serving_patient = self.head\n",
        "            if self.head == self.tail:\n",
        "                self.head = None\n",
        "                self.tail = None\n",
        "            else:\n",
        "                self.head = serving_patient.next\n",
        "                self.tail.next = self.head\n",
        "                self.head.prev = self.tail\n",
        "            return serving_patient.name\n",
        "        else:\n",
        "            return \"No patient to serve.\"\n",
        "\n",
        "    def CancelAll(self):\n",
        "        self.head = None\n",
        "        self.tail = None\n",
        "\n",
        "    def CanDoctorGoHome(self):\n",
        "        return self.head is None\n",
        "\n",
        "    def ShowAllPatients(self):\n",
        "        if not self.head:\n",
        "            print(\"No patients in the waiting room.\")\n",
        "        else:\n",
        "            current = self.head\n",
        "            while True:\n",
        "                print(current.name, end=\" \")\n",
        "                current = current.next\n",
        "                if current == self.head:\n",
        "                    print()\n",
        "                    break\n",
        "    def ReverseTheLine(self):\n",
        "        if self.head:\n",
        "            current = self.head\n",
        "            while True:\n",
        "                current.next, current.prev = current.prev, current.next\n",
        "                current = current.prev\n",
        "                if current == self.head:\n",
        "                    break\n",
        "            self.head, self.tail = self.tail, self.head"
      ],
      "metadata": {
        "id": "dNx7zTJ1OZNv"
      },
      "execution_count": 23,
      "outputs": []
    },
    {
      "cell_type": "code",
      "source": [
        "#Write a Tester Code in this cell\n",
        "wrm = WRM()\n",
        "print(\"**Welcome to Waiting Room Management System**\")\n",
        "while True:\n",
        "    print(\"Options:\")\n",
        "    print(\"a. Add Patient\")\n",
        "    print(\"b. Serve Patient\")\n",
        "    print(\"c. Show All Patients\")\n",
        "    print(\"d. Can Doctor go Home?\")\n",
        "    print(\"e. Cancel All Appointments\")\n",
        "    print(\"f. Reverse the Line\")\n",
        "    print(\"g. Exit\")\n",
        "\n",
        "    op = input(\"Enter your choice: \")\n",
        "    # if op not in 'abcdefgh':\n",
        "    #     break\n",
        "\n",
        "    if op == 'a':\n",
        "        id = int(input(\"Enter patient ID: \"))\n",
        "        name = input(\"Enter patient name: \")\n",
        "        age = int(input(\"Enter patient age: \"))\n",
        "        bloodgroup = input(\"Enter patient blood group: \")\n",
        "        wrm.registerPatient(id, name, age, bloodgroup)\n",
        "        print(\"Patient added successfully.\")\n",
        "\n",
        "    elif op == 'b':\n",
        "        served_patient = wrm.ServePatient()\n",
        "        print(\"Serving patient:\", served_patient)\n",
        "\n",
        "    elif op == 'c':\n",
        "        wrm.ShowAllPatients()\n",
        "\n",
        "    elif op == 'd':\n",
        "        if wrm.CanDoctorGoHome():\n",
        "            print(\"Yes, doctor can go home.\")\n",
        "        else:\n",
        "            print(\"No, there are patients waiting.\")\n",
        "\n",
        "    elif op == 'e':\n",
        "        wrm.CancelAll()\n",
        "        print(\"All appointments canceled.\")\n",
        "\n",
        "    elif op == 'f':\n",
        "        wrm.ReverseTheLine()\n",
        "        print(\"Line reversed successfully.\")\n",
        "\n",
        "    elif op == 'g':\n",
        "        print(\"Thanks for for using wrms.\")\n",
        "        print(\"Exiting...\")\n",
        "        break\n",
        "    else:\n",
        "       print(\"Invalid key Please try again\")\n",
        "print(\"**Welcome to Waiting Room Management System**\")\n"
      ],
      "metadata": {
        "id": "jKhbn1LAPfjr",
        "colab": {
          "base_uri": "https://localhost:8080/"
        },
        "outputId": "f1a5070a-270c-421e-cb73-178273d43eff"
      },
      "execution_count": 33,
      "outputs": [
        {
          "output_type": "stream",
          "name": "stdout",
          "text": [
            "**Welcome to Waiting Room Management System**\n",
            "Options:\n",
            "a. Add Patient\n",
            "b. Serve Patient\n",
            "c. Show All Patients\n",
            "d. Can Doctor go Home?\n",
            "e. Cancel All Appointments\n",
            "f. Reverse the Line\n",
            "g. Exit\n",
            "Enter your choice: a\n",
            "Enter patient ID: 001\n",
            "Enter patient name: Monowar\n",
            "Enter patient age: 19\n",
            "Enter patient blood group: B+\n",
            "Patient added successfully.\n",
            "Options:\n",
            "a. Add Patient\n",
            "b. Serve Patient\n",
            "c. Show All Patients\n",
            "d. Can Doctor go Home?\n",
            "e. Cancel All Appointments\n",
            "f. Reverse the Line\n",
            "g. Exit\n",
            "Enter your choice: g\n",
            "Thanks for for using wrms.\n",
            "Exiting...\n",
            "**Welcome to Waiting Room Management System**\n"
          ]
        }
      ]
    },
    {
      "cell_type": "markdown",
      "source": [
        "**Assignment Part 2: Stack**\n",
        "\n",
        "Linked List based Stack is implemented in the following cell."
      ],
      "metadata": {
        "id": "CJWd_j6YEnPn"
      }
    },
    {
      "cell_type": "code",
      "source": [
        "class Node:\n",
        "  def __init__(self,elem=None,next=None):\n",
        "    self.elem = elem\n",
        "    self.next = next\n",
        "\n",
        "class Stack:\n",
        "  def __init__(self):\n",
        "    self.__top = None\n",
        "\n",
        "  def push(self,elem):\n",
        "    nn = Node(elem,self.__top)\n",
        "    self.__top = nn\n",
        "\n",
        "  def pop(self):\n",
        "    if self.__top == None:\n",
        "      #print('Stack Underflow')\n",
        "      return None\n",
        "    e = self.__top\n",
        "    self.__top = self.__top.next\n",
        "    return e.elem\n",
        "\n",
        "  def peek(self):\n",
        "    if self.__top == None:\n",
        "      #print('Stack Underflow')\n",
        "      return None\n",
        "    return self.__top.elem\n",
        "\n",
        "  def isEmpty(self):\n",
        "    return self.__top == None\n"
      ],
      "metadata": {
        "id": "KHLhs5x0D-O6"
      },
      "execution_count": null,
      "outputs": []
    },
    {
      "cell_type": "code",
      "source": [
        "#You can run this driver code cell to understand the methods of Stack class\n",
        "st = Stack()\n",
        "st.push(4)\n",
        "st.push(3)\n",
        "st.push(5)\n",
        "st.push(1)\n",
        "st.push(9)\n",
        "\n",
        "print('Peeked Element: ',st.peek())\n",
        "print('Popped Element: ',st.pop())\n",
        "print('Popped Element: ',st.pop())\n",
        "print('Popped Element: ',st.pop())\n",
        "print('Peeked Element: ',st.peek())\n",
        "print('Popped Element: ',st.pop())\n",
        "print('Popped Element: ',st.pop())\n",
        "print('Peeked Element: ',st.peek())\n",
        "print('Popped Element: ',st.pop())\n",
        "print(st.isEmpty())"
      ],
      "metadata": {
        "id": "4XkuMA7gEjE7",
        "colab": {
          "base_uri": "https://localhost:8080/"
        },
        "outputId": "6a14d7f7-8450-4aca-ca8f-8db01f177985"
      },
      "execution_count": null,
      "outputs": [
        {
          "output_type": "stream",
          "name": "stdout",
          "text": [
            "Peeked Element:  9\n",
            "Popped Element:  9\n",
            "Popped Element:  1\n",
            "Popped Element:  5\n",
            "Peeked Element:  3\n",
            "Popped Element:  3\n",
            "Popped Element:  4\n",
            "Peeked Element:  None\n",
            "Popped Element:  None\n",
            "True\n"
          ]
        }
      ]
    },
    {
      "cell_type": "markdown",
      "source": [
        "You can print your stack using this code segment"
      ],
      "metadata": {
        "id": "xrfONLccG9Gi"
      }
    },
    {
      "cell_type": "code",
      "source": [
        "def print_stack(st):\n",
        "  if st.isEmpty():\n",
        "    return\n",
        "  p = st.pop()\n",
        "  print('|',p,end=' ')\n",
        "  if p<10:\n",
        "    print(' |')\n",
        "  else:\n",
        "    print('|')\n",
        "  #print('------')\n",
        "  print_stack(st)\n",
        "  st.push(p)\n",
        "\n",
        "# st = Stack()\n",
        "# st.push(4)\n",
        "# st.push(3)\n",
        "# st.push(5)\n",
        "# st.push(1)\n",
        "# st.push(9)\n",
        "# print_stack(st)\n",
        "# print('------')"
      ],
      "metadata": {
        "id": "S-EembO_GsWA"
      },
      "execution_count": null,
      "outputs": []
    },
    {
      "cell_type": "markdown",
      "source": [
        "Task 1: Diamond Count"
      ],
      "metadata": {
        "id": "iNMnfqqpIga2"
      }
    },
    {
      "cell_type": "code",
      "source": [
        "def diamond_count(stack,string):\n",
        "\n",
        "    c =0\n",
        "    # st = stack\n",
        "    # strn = string\n",
        "    for i in  string:\n",
        "        if i == '<':\n",
        "            stack.push(i)\n",
        "        elif i == '>':\n",
        "            x = stack.pop()\n",
        "            if x == '<':\n",
        "                c+=1\n",
        "    return c\n",
        "\n",
        "\n",
        "\n",
        "\n",
        "print('Test 01')\n",
        "stack = Stack()\n",
        "string = '<..><.<..>> '\n",
        "returned_value = diamond_count(stack,string)\n",
        "print(f'Number of Diamonds: {returned_value}') #This should print 3\n",
        "unittest.output_test(returned_value, 3)\n",
        "print('-----------------------------------------')\n",
        "\n",
        "\n",
        "print('Test 02')\n",
        "stack = Stack()\n",
        "string = '<<<..<......<<<<....>'\n",
        "returned_value = diamond_count(stack,string)\n",
        "print(f'Number of Diamonds: {returned_value}') #This should print 1\n",
        "unittest.output_test(returned_value, 1)\n",
        "print('-----------------------------------------')\n",
        "\n",
        "\n",
        "print('Test 03')\n",
        "stack = Stack()\n",
        "string = '>>><...<<..>>...>...>>>'\n",
        "returned_value = diamond_count(stack,string)\n",
        "print(f'Number of Diamonds: {returned_value}') #This should print 3\n",
        "unittest.output_test(returned_value, 3)\n",
        "print('-----------------------------------------')"
      ],
      "metadata": {
        "id": "GnX70OIvG_gZ",
        "colab": {
          "base_uri": "https://localhost:8080/"
        },
        "outputId": "90716202-27d2-42c1-9703-17bba2669cb2"
      },
      "execution_count": null,
      "outputs": [
        {
          "output_type": "stream",
          "name": "stdout",
          "text": [
            "Test 01\n",
            "Number of Diamonds: 3\n",
            "Accepted\n",
            "-----------------------------------------\n",
            "Test 02\n",
            "Number of Diamonds: 1\n",
            "Accepted\n",
            "-----------------------------------------\n",
            "Test 03\n",
            "Number of Diamonds: 3\n",
            "Accepted\n",
            "-----------------------------------------\n"
          ]
        }
      ]
    },
    {
      "cell_type": "markdown",
      "source": [
        "Task 2: Tower of Blocks"
      ],
      "metadata": {
        "id": "PhCF3SZ6IX5g"
      }
    },
    {
      "cell_type": "code",
      "source": [
        "def remove_block(stack, n):\n",
        "    c = 0\n",
        "    temp = Stack()\n",
        "    while c<n:\n",
        "        x = st.pop()\n",
        "        temp.push(x)\n",
        "        c+=1\n",
        "    temp.pop()\n",
        "    while temp.peek()!=None:\n",
        "        x = temp.pop()\n",
        "        st.push(x)\n",
        "\n",
        "print('Test 01')\n",
        "st = Stack()\n",
        "st.push(4)\n",
        "st.push(19)\n",
        "st.push(23)\n",
        "st.push(17)\n",
        "st.push(5)\n",
        "print('Stack:')\n",
        "print_stack(st)\n",
        "print('------')\n",
        "remove_block(st,2)\n",
        "print('After Removal')\n",
        "print_stack(st)\n",
        "print('------')\n",
        "\n",
        "print()\n",
        "print('======================================')\n",
        "print()\n",
        "\n",
        "print('Test 02')\n",
        "st = Stack()\n",
        "st.push(73)\n",
        "st.push(85)\n",
        "st.push(15)\n",
        "st.push(41)\n",
        "print('Stack:')\n",
        "print_stack(st)\n",
        "print('------')\n",
        "remove_block(st,3)\n",
        "print('After Removal')\n",
        "print_stack(st)\n",
        "print('------')\n",
        "\n",
        "print()\n",
        "print('======================================')\n",
        "print()"
      ],
      "metadata": {
        "id": "W3N4q7YAHExr",
        "colab": {
          "base_uri": "https://localhost:8080/"
        },
        "outputId": "46519de5-8b57-4898-cc24-8d2b7774abfa"
      },
      "execution_count": null,
      "outputs": [
        {
          "output_type": "stream",
          "name": "stdout",
          "text": [
            "Test 01\n",
            "Stack:\n",
            "| 5  |\n",
            "| 17 |\n",
            "| 23 |\n",
            "| 19 |\n",
            "| 4  |\n",
            "------\n",
            "After Removal\n",
            "| 5  |\n",
            "| 23 |\n",
            "| 19 |\n",
            "| 4  |\n",
            "------\n",
            "\n",
            "======================================\n",
            "\n",
            "Test 02\n",
            "Stack:\n",
            "| 41 |\n",
            "| 15 |\n",
            "| 85 |\n",
            "| 73 |\n",
            "------\n",
            "After Removal\n",
            "| 41 |\n",
            "| 15 |\n",
            "| 73 |\n",
            "------\n",
            "\n",
            "======================================\n",
            "\n"
          ]
        }
      ]
    },
    {
      "cell_type": "markdown",
      "source": [
        "Task 3: Stack Reverse"
      ],
      "metadata": {
        "id": "jcngRuqUWOfl"
      }
    },
    {
      "cell_type": "code",
      "source": [
        "def conditional_reverse(stack):\n",
        "    temp = Stack()\n",
        "    while st.peek()!=None:\n",
        "\n",
        "        if temp.peek() != st.peek():\n",
        "            x = st.pop()\n",
        "            temp.push(x)\n",
        "        else:\n",
        "            st.pop()\n",
        "    return temp\n",
        "\n",
        "\n",
        "\n",
        "\n",
        "\n",
        "\n",
        "print('Test 01')\n",
        "st=Stack()\n",
        "st.push(10)\n",
        "st.push(10)\n",
        "st.push(20)\n",
        "st.push(20)\n",
        "st.push(30)\n",
        "st.push(10)\n",
        "st.push(50)\n",
        "print('Stack:')\n",
        "print_stack(st)\n",
        "print('------')\n",
        "reversed_stack=conditional_reverse(st)\n",
        "print('Conditional Reversed Stack:')\n",
        "print_stack(reversed_stack) # This stack contains 50, 10, 30, 20, 10 in this order whereas top element should be 10\n",
        "print('------')"
      ],
      "metadata": {
        "id": "gLSgfDKPWPnP",
        "colab": {
          "base_uri": "https://localhost:8080/"
        },
        "outputId": "4735df2e-7bc2-455a-9f1e-9cc8316d2552"
      },
      "execution_count": null,
      "outputs": [
        {
          "output_type": "stream",
          "name": "stdout",
          "text": [
            "Test 01\n",
            "Stack:\n",
            "| 50 |\n",
            "| 10 |\n",
            "| 30 |\n",
            "| 20 |\n",
            "| 20 |\n",
            "| 10 |\n",
            "| 10 |\n",
            "------\n",
            "Conditional Reversed Stack:\n",
            "| 10 |\n",
            "| 20 |\n",
            "| 30 |\n",
            "| 10 |\n",
            "| 50 |\n",
            "------\n"
          ]
        }
      ]
    },
    {
      "cell_type": "code",
      "source": [],
      "metadata": {
        "id": "mNQQ0WLK356V"
      },
      "execution_count": null,
      "outputs": []
    }
  ]
}