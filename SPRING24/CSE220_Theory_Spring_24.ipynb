{
  "nbformat": 4,
  "nbformat_minor": 0,
  "metadata": {
    "colab": {
      "provenance": [],
      "include_colab_link": true
    },
    "kernelspec": {
      "name": "python3",
      "display_name": "Python 3"
    },
    "language_info": {
      "name": "python"
    }
  },
  "cells": [
    {
      "cell_type": "markdown",
      "metadata": {
        "id": "view-in-github",
        "colab_type": "text"
      },
      "source": [
        "<a href=\"https://colab.research.google.com/github/MonowarHusain/CSE220_DATASTRUCTURES/blob/main/SPRING24/CSE220_Theory_Spring_24.ipynb\" target=\"_parent\"><img src=\"https://colab.research.google.com/assets/colab-badge.svg\" alt=\"Open In Colab\"/></a>"
      ]
    },
    {
      "cell_type": "code",
      "source": [
        "import numpy as np\n",
        "class ArrayStack:\n",
        "  def __init__(self):\n",
        "    self.__stack = np.zeros(10)\n",
        "    self.__top = 0\n",
        "\n",
        "  def push(self, obj):\n",
        "    if self.__top == len(self.__stack):\n",
        "      return \"Stack Overflow Exception\"\n",
        "    self.__stack[self.__top] = obj\n",
        "    self.__top += 1\n",
        "\n",
        "  def pop(self):\n",
        "    if self.__top == 0:\n",
        "      return \"Stack Underflow Exception\"\n",
        "    popped_item = self.__stack[self.__top - 1]\n",
        "    self.__stack[self.__top - 1] = 0\n",
        "    self.__top -= 1\n",
        "    return popped_item\n",
        "\n",
        "  def peek(self):\n",
        "    if self.__top == 0:\n",
        "      return \"Stack Underflow Exception\"\n",
        "    return self.__stack[self.__top - 1]\n",
        "\n",
        "  def isEmpty(self):\n",
        "    if self.__top == 0:\n",
        "      return True\n",
        "    return False"
      ],
      "metadata": {
        "id": "fsnflArXDTeX"
      },
      "execution_count": null,
      "outputs": []
    },
    {
      "cell_type": "code",
      "source": [
        "class Node:\n",
        "  def __init__(self, elem, next):\n",
        "    self.elem = elem\n",
        "    self.next = next"
      ],
      "metadata": {
        "id": "CyUmlSVEG-oW"
      },
      "execution_count": null,
      "outputs": []
    },
    {
      "cell_type": "code",
      "source": [
        "class LLStack:\n",
        "  def __init__(self):\n",
        "    self.__top = None\n",
        "\n",
        "  def push(self, obj):\n",
        "    self.__top = Node(obj, self.__top)\n",
        "    # n = Node(obj, None)\n",
        "    # n.next = self.__top\n",
        "    # self.__top = n\n",
        "\n",
        "  def pop(self):\n",
        "    if self.__top == None:\n",
        "      return \"Stack Underflow Exception\"\n",
        "    popped_item = self.__top.elem\n",
        "    self.__top = self.__top.next\n",
        "    return popped_item\n",
        "\n",
        "  def peek(self):\n",
        "    if self.__top == None:\n",
        "      return \"Stack Underflow Exception\"\n",
        "    return self.__top.elem\n",
        "\n",
        "  def isEmpty(self):\n",
        "    if self.__top == None:\n",
        "      return True\n",
        "    return False"
      ],
      "metadata": {
        "id": "Z7892mr_HEZn"
      },
      "execution_count": null,
      "outputs": []
    },
    {
      "cell_type": "code",
      "source": [
        "class Queue:\n",
        "  def __init__(self):\n",
        "    self.front = None\n",
        "    self.back = None\n",
        "\n",
        "  def enqueue(self, obj):\n",
        "    n = Node(obj, None)\n",
        "    if self.front == None:\n",
        "      self.front = n\n",
        "      self.back = n\n",
        "    else:\n",
        "      self.back.next = n\n",
        "      self.back = self.back.next\n",
        "\n",
        "  def dequeue(self):\n",
        "    if self.front == None:\n",
        "      return \"Queue Underflow Exception\"\n",
        "    deq_item = self.front.elem\n",
        "    self.front = self.front.next\n",
        "    return deq_item\n",
        "\n",
        "  def peek(self):\n",
        "    if self.front == None:\n",
        "      return \"Queue Underflow Exception\"\n",
        "    return self.front.elem\n",
        "\n",
        "  def isEmpty(self):\n",
        "    if self.front == None:\n",
        "      return True\n",
        "    return False"
      ],
      "metadata": {
        "id": "9jWUf5sNFJFc"
      },
      "execution_count": null,
      "outputs": []
    },
    {
      "cell_type": "code",
      "source": [
        "# Input Queue = [10, 15, 20, 25, 30] --> front 10, back = 30;\n",
        "# [15, 20, 25, 30]\n",
        "# [20, 25, 30, 15]\n",
        "# [25, 30, 15]\n",
        "# [30, 15, 25]\n",
        "# [15, 25]\n",
        "# removeEven(Queue) queue will have distinct item\n",
        "# Result Queue = [15, 25] --> front 15, back 25"
      ],
      "metadata": {
        "id": "qlLx-m6QF57g"
      },
      "execution_count": null,
      "outputs": []
    },
    {
      "cell_type": "code",
      "source": [
        "# For checking the value of queue we are using the below function\n",
        "def iterate(queue):\n",
        "  temp = queue.front\n",
        "  while temp != None:\n",
        "    print(temp.elem, end=\" \")\n",
        "    temp = temp.next\n",
        "  print()\n",
        "# Only for checking. This functoin is invalid for any problem regarding queue operation"
      ],
      "metadata": {
        "id": "__CmRsEFGnpn"
      },
      "execution_count": null,
      "outputs": []
    },
    {
      "cell_type": "code",
      "source": [
        "q = Queue()\n",
        "for i in range(10, 31, 5):\n",
        "  q.enqueue(i)\n",
        "iterate(q)"
      ],
      "metadata": {
        "colab": {
          "base_uri": "https://localhost:8080/"
        },
        "id": "7oEy9SbCHTqn",
        "outputId": "f13dc1c4-ebf9-4b0a-dfe2-84fedcc2f80c"
      },
      "execution_count": null,
      "outputs": [
        {
          "output_type": "stream",
          "name": "stdout",
          "text": [
            "10 15 20 25 30 \n"
          ]
        }
      ]
    },
    {
      "cell_type": "code",
      "source": [
        "def removeEven(q):\n",
        "  val = None\n",
        "  while True:\n",
        "    item = q.peek()\n",
        "    if item == val:\n",
        "      return q\n",
        "    item = q.dequeue()\n",
        "    if item % 2 != 0:\n",
        "      if val == None:\n",
        "        val = item\n",
        "      q.enqueue(item)\n",
        "q = removeEven(q)\n",
        "iterate(q)"
      ],
      "metadata": {
        "colab": {
          "base_uri": "https://localhost:8080/"
        },
        "id": "lSjha0QRHYsU",
        "outputId": "4790e962-be91-46f1-88e4-f4ff012ff07a"
      },
      "execution_count": null,
      "outputs": [
        {
          "output_type": "stream",
          "name": "stdout",
          "text": [
            "15 25 \n"
          ]
        }
      ]
    },
    {
      "cell_type": "code",
      "source": [
        "def hash_function(key, ht):\n",
        "  return (3 * len(key)) % len(ht)"
      ],
      "metadata": {
        "id": "j4n1fGTJM2Tz"
      },
      "execution_count": null,
      "outputs": []
    },
    {
      "cell_type": "code",
      "source": [
        "class Node:\n",
        "  def __init__(self, key, value, next):\n",
        "    self.key = key\n",
        "    self.val = value\n",
        "    self.next = next"
      ],
      "metadata": {
        "id": "TuPMT4aLP4_W"
      },
      "execution_count": null,
      "outputs": []
    },
    {
      "cell_type": "code",
      "source": [
        "def add(ht, key, val):\n",
        "  index = hash_function(key, ht)\n",
        "  if ht[index] == None:\n",
        "    ht[index] = Node(key, val, None)\n",
        "  else:\n",
        "    # Search that index to replace or not.\n",
        "    # Here I am not handling replace\n",
        "    ht[index] = Node(key, val, ht[index])"
      ],
      "metadata": {
        "id": "1_m0dxiHQUvU"
      },
      "execution_count": null,
      "outputs": []
    },
    {
      "cell_type": "code",
      "source": [
        "hash_table = [None] * 9\n",
        "print(\"1\",hash_table)\n",
        "add(hash_table, \"Name\", \"Tom Cruise\")\n",
        "print(\"2\",hash_table)\n",
        "add(hash_table, \"CG\", \"4.01\")\n",
        "print(\"3\",hash_table)\n",
        "add(hash_table, \"dept\", \"CSE\")\n",
        "print(\"4\",hash_table)\n",
        "print(hash_table[3].next)"
      ],
      "metadata": {
        "colab": {
          "base_uri": "https://localhost:8080/"
        },
        "id": "t6MlOjKzQEad",
        "outputId": "dae61bcf-ed96-4b59-e3f1-7f94d12ddf07"
      },
      "execution_count": null,
      "outputs": [
        {
          "output_type": "stream",
          "name": "stdout",
          "text": [
            "1 [None, None, None, None, None, None, None, None, None]\n",
            "2 [None, None, None, <__main__.Node object at 0x7c07b53da920>, None, None, None, None, None]\n",
            "3 [None, None, None, <__main__.Node object at 0x7c07b53da920>, None, None, <__main__.Node object at 0x7c07b53d8fd0>, None, None]\n",
            "4 [None, None, None, <__main__.Node object at 0x7c07b53d8f70>, None, None, <__main__.Node object at 0x7c07b53d8fd0>, None, None]\n",
            "<__main__.Node object at 0x7c07b53da920>\n"
          ]
        }
      ]
    },
    {
      "cell_type": "code",
      "source": [
        "def getLevel(root, data, level):\n",
        "    if (root == None):\n",
        "        return 0\n",
        "\n",
        "    if (root.data == data):\n",
        "        return level\n",
        "\n",
        "    downlevel = getLevel(root.left,data, level + 1)\n",
        "    if (downlevel != 0):\n",
        "        return downlevel\n",
        "\n",
        "    downlevel = getLevel(root.right,data, level + 1)\n",
        "    return downlevel"
      ],
      "metadata": {
        "id": "R670hnpeKs-S"
      },
      "execution_count": null,
      "outputs": []
    },
    {
      "cell_type": "code",
      "source": [
        "def get_height(root):\n",
        "    if root == None:\n",
        "        return -1\n",
        "    left_height = get_height(root.left)\n",
        "    right_height = get_height(root.right)\n",
        "    return 1 + max(left_height, right_height)"
      ],
      "metadata": {
        "id": "pilMbf9vLdqa"
      },
      "execution_count": null,
      "outputs": []
    },
    {
      "cell_type": "code",
      "source": [
        "class Node:\n",
        "  def __init__(self, val):\n",
        "    self.val = val\n",
        "    self.left = None\n",
        "    self.right = None"
      ],
      "metadata": {
        "id": "OY2Nw1kIes5D"
      },
      "execution_count": null,
      "outputs": []
    },
    {
      "cell_type": "code",
      "source": [
        "def addNode(root, val):\n",
        "  if root != None:\n",
        "    if val < root.val:\n",
        "      if root.left == None:\n",
        "        root.left = Node(val)\n",
        "      else:\n",
        "        addNode(root.left, val)\n",
        "    # Here I am not handling duplicate value. Do it yourself\n",
        "    else:\n",
        "      if root.right == None:\n",
        "        root.right = Node(val)\n",
        "      else:\n",
        "        addNode(root.right, val)"
      ],
      "metadata": {
        "id": "ivfz6VpIi0Gs"
      },
      "execution_count": null,
      "outputs": []
    },
    {
      "cell_type": "code",
      "source": [
        "arr = [70, 40, 50, 60, 75, 90, 105, 55, 30, 80]\n",
        "root = Node(arr[0])\n",
        "for i in range(1, len(arr)):\n",
        "  addNode(root, arr[i])"
      ],
      "metadata": {
        "id": "TRXpW3qBkTA4"
      },
      "execution_count": null,
      "outputs": []
    },
    {
      "cell_type": "code",
      "source": [
        "def preOrder(root):\n",
        "  if root != None:\n",
        "    print(root.val, end = \" \")\n",
        "    preOrder(root.left)\n",
        "    preOrder(root.right)\n",
        "\n",
        "def inOrder(root):\n",
        "  if root != None:\n",
        "    inOrder(root.left)\n",
        "    print(root.val, end = \" \")\n",
        "    inOrder(root.right)"
      ],
      "metadata": {
        "id": "NXXCR4ehl0Di"
      },
      "execution_count": null,
      "outputs": []
    },
    {
      "cell_type": "code",
      "source": [
        "print(\"Pre Order\")\n",
        "preOrder(root)\n",
        "print(\"\\nIn order\")\n",
        "inOrder(root)"
      ],
      "metadata": {
        "colab": {
          "base_uri": "https://localhost:8080/"
        },
        "id": "aSiFoiM1l-JA",
        "outputId": "289c4c1c-ef89-44e3-dc79-8f4275a3b536"
      },
      "execution_count": null,
      "outputs": [
        {
          "output_type": "stream",
          "name": "stdout",
          "text": [
            "Pre Order\n",
            "70 40 30 50 60 55 75 90 80 105 \n",
            "In order\n",
            "30 40 50 55 60 70 75 80 90 105 "
          ]
        }
      ]
    },
    {
      "cell_type": "code",
      "source": [
        "def successor(root):\n",
        "  if root.right != None:\n",
        "    suc = root.right\n",
        "    while suc.left != None:\n",
        "      suc = suc.left\n",
        "    return suc\n",
        "  return None"
      ],
      "metadata": {
        "id": "ibs0xYKNIxjj"
      },
      "execution_count": null,
      "outputs": []
    },
    {
      "cell_type": "code",
      "source": [
        "def count(root):\n",
        "  if root != None:\n",
        "    return 1 + count(root.left) + count(root.right)\n",
        "  return 0"
      ],
      "metadata": {
        "id": "u8mnnpQsKRB1"
      },
      "execution_count": null,
      "outputs": []
    }
  ]
}