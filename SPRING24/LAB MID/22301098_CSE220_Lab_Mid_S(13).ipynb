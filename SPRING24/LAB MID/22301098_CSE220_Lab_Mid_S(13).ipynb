{
  "nbformat": 4,
  "nbformat_minor": 0,
  "metadata": {
    "colab": {
      "provenance": []
    },
    "kernelspec": {
      "name": "python3",
      "display_name": "Python 3"
    },
    "language_info": {
      "name": "python"
    }
  },
  "cells": [
    {
      "cell_type": "code",
      "execution_count": 1,
      "metadata": {
        "id": "fScG6Z5te0g7",
        "colab": {
          "base_uri": "https://localhost:8080/"
        },
        "outputId": "35254ff8-be9b-4dd0-e739-47b00e5eae00"
      },
      "outputs": [
        {
          "output_type": "stream",
          "name": "stdout",
          "text": [
            "Collecting fhm-unittest\n",
            "  Downloading fhm_unittest-1.0.1-py3-none-any.whl (2.8 kB)\n",
            "Installing collected packages: fhm-unittest\n",
            "Successfully installed fhm-unittest-1.0.1\n",
            "Collecting fuzzywuzzy\n",
            "  Downloading fuzzywuzzy-0.18.0-py2.py3-none-any.whl (18 kB)\n",
            "Installing collected packages: fuzzywuzzy\n",
            "Successfully installed fuzzywuzzy-0.18.0\n"
          ]
        },
        {
          "output_type": "stream",
          "name": "stderr",
          "text": [
            "/usr/local/lib/python3.10/dist-packages/fuzzywuzzy/fuzz.py:11: UserWarning: Using slow pure-python SequenceMatcher. Install python-Levenshtein to remove this warning\n",
            "  warnings.warn('Using slow pure-python SequenceMatcher. Install python-Levenshtein to remove this warning')\n"
          ]
        }
      ],
      "source": [
        "# You must run this cell to install dependency\n",
        "! pip3 install fhm-unittest\n",
        "! pip3 install fuzzywuzzy\n",
        "import fhm_unittest as unittest\n",
        "import numpy as np"
      ]
    },
    {
      "cell_type": "code",
      "source": [
        "#creating the cipher table\n",
        "V_Cipher = np.array([['A' , 'B' , 'C' , 'D' , 'E' , 'F' , 'G' , 'H' , 'I' , 'J' , 'K' , 'L' , 'M' , 'N', 'O' , 'P' , 'Q' , 'R' , 'S' , 'T' , 'U' , 'V' , 'W' , 'X' , 'Y' , 'Z'],\n",
        "                  ['B' , 'C' , 'D' , 'E' , 'F' , 'G' , 'H' , 'I' , 'J' , 'K' , 'L' , 'M' , 'N' , 'O' , 'P' , 'Q' , 'R' , 'S' , 'T' , 'U' , 'V' , 'W' , 'X' , 'Y' , 'Z' , 'A'],\n",
        "                  ['C' , 'D' , 'E' , 'F' , 'G' , 'H' , 'I' , 'J' , 'K' , 'L' , 'M' , 'N' , 'O' , 'P' , 'Q' , 'R' , 'S' , 'T' , 'U' , 'V' , 'W' , 'X' , 'Y' , 'Z' , 'A' , 'B'],\n",
        "                  ['D' , 'E' , 'F' , 'G' , 'H' , 'I' , 'J' , 'K' , 'L' , 'M' , 'N' , 'O' , 'P' , 'Q' , 'R' , 'S' , 'T' , 'U' , 'V' , 'W' , 'X' , 'Y' , 'Z' , 'A' , 'B' , 'C'],\n",
        "                  ['E' , 'F' , 'G' , 'H' , 'I' , 'J' , 'K' , 'L' , 'M' , 'N' , 'O' , 'P' , 'Q' , 'R' , 'S' , 'T' , 'U' , 'V' , 'W' , 'X' , 'Y' , 'Z' , 'A' , 'B' , 'C' , 'D']]\n",
        "                )"
      ],
      "metadata": {
        "id": "yNtYSaB1l_yJ"
      },
      "execution_count": 2,
      "outputs": []
    },
    {
      "cell_type": "code",
      "source": [
        "def Decrypt_Msg(Table,St,key):\n",
        "    tb= Table\n",
        "    st = St\n",
        "    key = key\n",
        "    row,col = tb.shape\n",
        "    new_key = ''\n",
        "    for i in key:\n",
        "        if int(i)>=row:\n",
        "            return \"Invalid Key\"\n",
        "    c = 0\n",
        "    k = 0\n",
        "    while c<len(st):\n",
        "        if k<len(key):\n",
        "            if st[c]!=' ':\n",
        "                new_key+=key[k]\n",
        "                c+=1\n",
        "                k+=1\n",
        "            else:\n",
        "                new_key+=' '\n",
        "                c+=1\n",
        "                k =0\n",
        "        else:\n",
        "            k=0\n",
        "    print(new_key)\n",
        "\n",
        "    new_st=''\n",
        "\n",
        "    for i in range(len(st)):\n",
        "        for j in range(col):\n",
        "            if st[i]==' ':\n",
        "                new_st+=' '\n",
        "            elif st[i]==tb[int(new_key[i])][j] :\n",
        "                new_st+=tb[0][j]\n",
        "    # print(tb[2][1])\n",
        "\n",
        "    return new_st\n",
        "\n",
        "\n"
      ],
      "metadata": {
        "id": "Kf-ljVNy2AUH"
      },
      "execution_count": 3,
      "outputs": []
    },
    {
      "cell_type": "code",
      "source": [
        "#Driver Code, Do not change anything here\n",
        "print(\"---------------Test_Case_01-------------------------\")\n",
        "returned_value = Decrypt_Msg(V_Cipher,\"JCG RJVJPQ\",\"213\")\n",
        "print('Decrypted string is : ', returned_value)\n",
        "unittest.output_test(returned_value,\"HBD PISHON\")\n",
        "print(\"---------------Test_Case_02-------------------------\")\n",
        "returned_value = Decrypt_Msg(V_Cipher,\"GQSD LWGK\",\"024\")\n",
        "print('Decrypted string is : ', returned_value)\n",
        "unittest.output_test(returned_value,\"GOOD LUCK\")\n",
        "print(\"---------------Test_Case_03-------------------------\")\n",
        "returned_value = Decrypt_Msg(V_Cipher,\"NNP DQLP\",\"532\")\n",
        "print('Decrypted string is : ', returned_value)\n",
        "unittest.output_test(returned_value,\"Invalid Key\")"
      ],
      "metadata": {
        "id": "PwlVUSDJ2VNt",
        "colab": {
          "base_uri": "https://localhost:8080/"
        },
        "outputId": "88ef4e56-1e7e-410e-cd02-44a1c310bbf1"
      },
      "execution_count": 4,
      "outputs": [
        {
          "output_type": "stream",
          "name": "stdout",
          "text": [
            "---------------Test_Case_01-------------------------\n",
            "213 213213\n",
            "Decrypted string is :  HBD                          PISHON\n",
            "Not Accepted [Your output: HBD                          PISHON  |  Expected Output: HBD PISHON]\n",
            "---------------Test_Case_02-------------------------\n",
            "0240 0240\n",
            "Decrypted string is :  GOOD                          LUCK\n",
            "Not Accepted [Your output: GOOD                          LUCK  |  Expected Output: GOOD LUCK]\n",
            "---------------Test_Case_03-------------------------\n",
            "Decrypted string is :  Invalid Key\n",
            "Accepted\n"
          ]
        }
      ]
    }
  ]
}