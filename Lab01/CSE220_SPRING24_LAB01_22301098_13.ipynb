{
  "nbformat": 4,
  "nbformat_minor": 0,
  "metadata": {
    "colab": {
      "provenance": [],
      "include_colab_link": true
    },
    "kernelspec": {
      "name": "python3",
      "display_name": "Python 3"
    },
    "language_info": {
      "name": "python"
    }
  },
  "cells": [
    {
      "cell_type": "markdown",
      "metadata": {
        "id": "view-in-github",
        "colab_type": "text"
      },
      "source": [
        "<a href=\"https://colab.research.google.com/github/MonowarHusain/CSE220_DATASTRUCTURES/blob/main/Lab01/CSE220_SPRING24_LAB01_22301098_13.ipynb\" target=\"_parent\"><img src=\"https://colab.research.google.com/assets/colab-badge.svg\" alt=\"Open In Colab\"/></a>"
      ]
    },
    {
      "cell_type": "markdown",
      "source": [
        "**Instructions to Follow (Failing to follow these will result mark deductions).**\n",
        "1. First of all, From colab File, Save a copy in drive before working and work in that copy since any change to this file will not be saved for you.\n",
        "2. You can not use any built-in function except len()\n",
        "\n",
        "3. You can not use any other python collections except array (e.g: tuple, dictionaries etc.).\n",
        "\n",
        "4. We will initialize a new array using numpy library. We have to mention the fixed size during initialization. There might be 4 approaches.\n",
        "\n",
        " i. arr = np.array([None] * 10) #Initializing an array length 10 with values None.\n",
        "\n",
        " ii. arr = np.array([0] * 10) #Initializing an array length 10 with values zero.\n",
        "\n",
        " iii. arr = np.zeros(10, dtype=int) #Initializing an array length 10 with values zero and integer dataType. By default, dtype is float.\n",
        "\n",
        " iv. arr = np.array([10, 20, 30, 40]) #Initializing an array length 4 with the values.\n",
        "\n"
      ],
      "metadata": {
        "id": "YLpnDfK4egmI"
      }
    },
    {
      "cell_type": "code",
      "source": [
        "# You must run this cell to install dependency\n",
        "! pip3 install fhm-unittest\n",
        "! pip3 install fuzzywuzzy\n",
        "import fhm_unittest as unittest\n",
        "import numpy as np"
      ],
      "metadata": {
        "id": "rSkZFFD4ej5o",
        "colab": {
          "base_uri": "https://localhost:8080/"
        },
        "outputId": "8ca1944d-2f35-4869-cbf2-1a6817c763cb"
      },
      "execution_count": null,
      "outputs": [
        {
          "output_type": "stream",
          "name": "stdout",
          "text": [
            "Collecting fhm-unittest\n",
            "  Downloading fhm_unittest-1.0.1-py3-none-any.whl (2.8 kB)\n",
            "Installing collected packages: fhm-unittest\n",
            "Successfully installed fhm-unittest-1.0.1\n",
            "Collecting fuzzywuzzy\n",
            "  Downloading fuzzywuzzy-0.18.0-py2.py3-none-any.whl (18 kB)\n",
            "Installing collected packages: fuzzywuzzy\n",
            "Successfully installed fuzzywuzzy-0.18.0\n"
          ]
        },
        {
          "output_type": "stream",
          "name": "stderr",
          "text": [
            "/usr/local/lib/python3.10/dist-packages/fuzzywuzzy/fuzz.py:11: UserWarning: Using slow pure-python SequenceMatcher. Install python-Levenshtein to remove this warning\n",
            "  warnings.warn('Using slow pure-python SequenceMatcher. Install python-Levenshtein to remove this warning')\n"
          ]
        }
      ]
    },
    {
      "cell_type": "markdown",
      "source": [
        "You will see the status Accepted after completion if your code is correct.\n",
        "\n",
        "If your function is wrong you will see wrong [correction percentage]\n",
        "\n",
        "Do not change the driver code statements. You can only change the input values to test your code."
      ],
      "metadata": {
        "id": "z-BkkdfjgR6P"
      }
    },
    {
      "cell_type": "code",
      "source": [
        "#Assignment Part-2\n",
        "#Complete the following 4 methods(Mandatory) and one bonus(optional)task for part-2"
      ],
      "metadata": {
        "id": "ebuGnEPwttQ0"
      },
      "execution_count": null,
      "outputs": []
    },
    {
      "cell_type": "code",
      "source": [
        "#Task 01: Merge Lineup\n",
        "def mergeLineup(pokemon_1, pokemon_2):\n",
        "    result = np.array([0]*len(pokemon_1))\n",
        "    #to do\n",
        "    i = 0\n",
        "    j = len(pokemon_1)-1\n",
        "    while i< len(pokemon_1):\n",
        "        if pokemon_1[i] == None:\n",
        "            if pokemon_2[j] == None:\n",
        "                result[i] = 0+0\n",
        "            else:\n",
        "                result[i] = 0 + pokemon_2[j]\n",
        "        else:\n",
        "            if pokemon_2[j] == None:\n",
        "                result[i] = pokemon_1[i] + 0\n",
        "            else:\n",
        "                result[i] = pokemon_1[i] + pokemon_2[j]\n",
        "        i+=1\n",
        "        j-=1\n",
        "    return result\n",
        "\n",
        "\n",
        "print(\"///  Task 01: Merge Lineup  ///\")\n",
        "pokemon_1 = np.array([12, 3, 25, 1, None])\n",
        "pokemon_2 = np.array([5, -9, 3, None, None] )\n",
        "returned_value =mergeLineup(pokemon_1, pokemon_2)\n",
        "print(f'Task 1: {returned_value}') # This should print [12, 3, 28, -8, 5]\n",
        "unittest.output_test(returned_value, np.array([12, 3, 28, -8, 5]))\n",
        "pokemon_1 = np.array([4, 5, -1, None, None])\n",
        "pokemon_2 = np.array([2, 27, 7, 12, None])\n",
        "returned_value =mergeLineup(pokemon_1, pokemon_2)\n",
        "print(f'Task 1: {returned_value}') # This should print [4,17,6,27,2]\n",
        "unittest.output_test(returned_value, np.array([4,17,6,27,2]))"
      ],
      "metadata": {
        "id": "ZVbY0rzKgRgC",
        "colab": {
          "base_uri": "https://localhost:8080/"
        },
        "outputId": "aa851930-73d3-4d3a-9322-3ade15915490"
      },
      "execution_count": null,
      "outputs": [
        {
          "output_type": "stream",
          "name": "stdout",
          "text": [
            "///  Task 01: Merge Lineup  ///\n",
            "Task 1: [12  3 28 -8  5]\n",
            "Accepted\n",
            "Task 1: [ 4 17  6 27  2]\n",
            "Accepted\n"
          ]
        }
      ]
    },
    {
      "cell_type": "code",
      "source": [
        "# Task 02: Discard Cards\n",
        "def removebyleftshift(idx,cards):\n",
        "    for i in range(idx,len(cards)-1):\n",
        "        cards[i] = cards[i+1]\n",
        "    cards[len(cards)-1] = 0\n",
        "    return cards\n",
        "def discardCards(cards, t):\n",
        "    f = 0\n",
        "    i = 0\n",
        "    c = 0\n",
        "    while i<len(cards):\n",
        "        if cards[i] == t and c<2:\n",
        "            f=1\n",
        "            if f == 1:\n",
        "                removebyleftshift(i,cards)\n",
        "                f = 0 # flag\n",
        "                c+=1 # count for t\n",
        "                i-=1\n",
        "        i+=1\n",
        "    return cards\n",
        "\n",
        "\n",
        "print(\"///  Task 02: Discard Cards  ///\")\n",
        "cards = np.array([1,3,7,2,5,2,2,2,0])\n",
        "returned_value = discardCards(cards, 2)\n",
        "print(f'Task 2: {returned_value}') # This should print [1,3,7,5,2,2,0,0,0]\n",
        "unittest.output_test(returned_value, np.array([1,3,7,5,2,2,0,0,0]))\n",
        "\n",
        "cards = np.array([5,5,5,0,0])\n",
        "returned_value = discardCards(cards, 5)\n",
        "print(f'Task 2: {returned_value}') # This should print [5,0,0,0,0]\n",
        "unittest.output_test(returned_value, np.array([5,0,0,0,0]))"
      ],
      "metadata": {
        "id": "rzaysRSshRbM",
        "colab": {
          "base_uri": "https://localhost:8080/"
        },
        "outputId": "dd74d086-965c-41f0-dbeb-f5f1a45cb61e"
      },
      "execution_count": null,
      "outputs": [
        {
          "output_type": "stream",
          "name": "stdout",
          "text": [
            "///  Task 02: Discard Cards  ///\n",
            "Task 2: [1 3 7 5 2 2 0 0 0]\n",
            "Accepted\n",
            "Task 2: [5 0 0 0 0]\n",
            "Accepted\n"
          ]
        }
      ]
    },
    {
      "cell_type": "code",
      "source": [
        "# Task 03: DUBER Fare Splitting\n",
        "def findGroups(money, fare):\n",
        "  # print(money,fare)\n",
        "    # TO DO\n",
        "    # Print outputs inside the method\n",
        "    lst=np.zeros(len(money))\n",
        "    group = 1\n",
        "    for i in range(len(money)):\n",
        "      for j in range(len(money)):\n",
        "        if j>i:\n",
        "            if money[i]+money[j]==fare:\n",
        "                if lst[i]==0 and lst[j]==0:\n",
        "                    print(f'Group {group}: {money[i]}, { money[j]}')\n",
        "                    lst[i]=1\n",
        "                    lst[j]=1\n",
        "                    group +=1\n",
        "                else:\n",
        "                    continue\n",
        "            else:\n",
        "                continue\n",
        "    flag = False\n",
        "    strn = ''\n",
        "    for i in range(len(lst)):\n",
        "        if lst[i]==0:\n",
        "            if not flag:\n",
        "                if money[i]==fare:\n",
        "                    print(f'Group {group}: {money[i]}')\n",
        "                else:\n",
        "                    strn += 'Ungrouped : '\n",
        "                    strn += f\"{str(money[i])} \"\n",
        "                    flag = True\n",
        "\n",
        "            else:\n",
        "                strn += f\"{str(money[i])} \"\n",
        "        else:\n",
        "            continue\n",
        "    if flag:\n",
        "        print(strn)\n",
        "\n",
        "\n",
        "\n",
        "\n",
        "\n",
        "print(\"///  Task 03: DUBER Fare Splitting  ///\")\n",
        "money = np.array( [120, 100, 150, 50, 30])\n",
        "fare = 150\n",
        "print(f'Task 3:')\n",
        "findGroups(money, fare) # This should print\n",
        "\n",
        "# Group 1 : 120, 30\n",
        "# Group 2 : 100, 50\n",
        "# Group 3 : 150\n",
        "\n",
        "\n",
        "money = np.array( [60, 150, 60, 30, 120, 30])\n",
        "fare = 180\n",
        "print(f'Task 3:')\n",
        "findGroups(money, fare) # This should print\n",
        "\n",
        "# Group 1 : 60, 120\n",
        "# Group 2 : 30, 150\n",
        "# Ungrouped : 30 60"
      ],
      "metadata": {
        "id": "CYtNF5M8itbB",
        "colab": {
          "base_uri": "https://localhost:8080/"
        },
        "outputId": "1c007bb8-74e3-4c87-b3e1-6f90854ada73"
      },
      "execution_count": null,
      "outputs": [
        {
          "output_type": "stream",
          "name": "stdout",
          "text": [
            "///  Task 03: DUBER Fare Splitting  ///\n",
            "Task 3:\n",
            "Group 1: 120, 30\n",
            "Group 2: 100, 50\n",
            "Group 3: 150\n",
            "Task 3:\n",
            "Group 1: 60, 120\n",
            "Group 2: 150, 30\n",
            "Ungrouped : 60 30 \n"
          ]
        }
      ]
    },
    {
      "cell_type": "code",
      "source": [
        "# Task 04: Get Those Hobbies\n",
        "\n",
        "def analyzeHobbies(* participants): #(* arguments) is used for variable number of parameters\n",
        "    # TO DO\n",
        "    # Print outputs inside the method\n",
        "\n",
        "    size = 0\n",
        "    for i in participants:\n",
        "        size+=len(i)\n",
        "\n",
        "    arr = np.empty(size, dtype=object)\n",
        "    c = 0\n",
        "    for i in participants:\n",
        "        for j in i:\n",
        "            if j not in arr:\n",
        "                arr[c] = j\n",
        "                c += 1\n",
        "    new_arr=np.empty(c, dtype=object)\n",
        "    m=0\n",
        "    for i in arr:\n",
        "        if i!=None:\n",
        "            new_arr[m]=i\n",
        "            m+=1\n",
        "\n",
        "    print(f'Unique Activities in the Town:\\n{new_arr}')\n",
        "    print(\"Statictics:\")\n",
        "    for h in new_arr:\n",
        "        s=0\n",
        "        for n in participants:\n",
        "            if h in n:\n",
        "                s+=1\n",
        "        print(f\"{s} participant(s) like(s) {h}.\")\n",
        "\n",
        "\n",
        "print(\"///  Task 04: Get Those Hobbies  ///\")\n",
        "participant_1 = np.array( [\"Hiking\", \"Reading\", \"Photography\", \"Cooking\"])\n",
        "participant_2 = np.array( [\"Reading\", \"Hiking\", \"Painting\"])\n",
        "participant_3 = np.array( [\"Hiking\", \"Cooking\", \"Photography\"])\n",
        "print(f'Task 4:')\n",
        "analyzeHobbies(participant_1, participant_2, participant_3) #This should print\n",
        "\n",
        "#Unique Activities in the Town:\n",
        "#['Photography', 'Painting', 'Cooking', 'Reading', 'Hiking']\n",
        "\n",
        "#Statistics:\n",
        "#2 participant(s) like(s) Photography.\n",
        "#1 participant(s) like(s) Painting.\n",
        "#2 participant(s) like(s) Cooking.\n",
        "#2 participant(s) like(s) Reading.\n",
        "#3 participant(s) like(s) Hiking.\n",
        "\n",
        "\n",
        "\n",
        "participant_1 = np.array( [\"Gardening\", \"Traveling\"])\n",
        "participant_2 = np.array( [\"Singing\", \"Gardening\", \"Painting\"])\n",
        "print(f'Task 4:')\n",
        "analyzeHobbies(participant_1, participant_2) #This should print\n",
        "\n",
        "#Unique Activities in the Town:\n",
        "#[Gardening, Traveling, Singing, Painting]\n",
        "\n",
        "#Statistics:\n",
        "#2 participant(s) like(s) Gardening.\n",
        "#1 participant(s) like(s) Traveling.\n",
        "#1 participant(s) like(s) Singing.\n",
        "#1 participant(s) like(s) Painting.\n"
      ],
      "metadata": {
        "id": "SzBe-ByVmV8G",
        "colab": {
          "base_uri": "https://localhost:8080/"
        },
        "outputId": "7636819c-9a96-43fa-81db-27f61b3efa6f"
      },
      "execution_count": null,
      "outputs": [
        {
          "output_type": "stream",
          "name": "stdout",
          "text": [
            "///  Task 04: Get Those Hobbies  ///\n",
            "Task 4:\n",
            "Unique Activities in the Town:\n",
            "['Hiking' 'Reading' 'Photography' 'Cooking' 'Painting']\n",
            "Statictics:\n",
            "3 participant(s) like(s) Hiking.\n",
            "2 participant(s) like(s) Reading.\n",
            "2 participant(s) like(s) Photography.\n",
            "2 participant(s) like(s) Cooking.\n",
            "1 participant(s) like(s) Painting.\n",
            "Task 4:\n",
            "Unique Activities in the Town:\n",
            "['Gardening' 'Traveling' 'Singing' 'Painting']\n",
            "Statictics:\n",
            "2 participant(s) like(s) Gardening.\n",
            "1 participant(s) like(s) Traveling.\n",
            "1 participant(s) like(s) Singing.\n",
            "1 participant(s) like(s) Painting.\n"
          ]
        }
      ]
    },
    {
      "cell_type": "code",
      "source": [
        "# Bonus Ungraded Task: Look and Say\n",
        "def look_and_say(arr):\n",
        "  #TO DO\n",
        "\n",
        "\n",
        "print(\"///  Bonus Task: Look and Say  ///\")\n",
        "arr = np.array([1,3,1,1,2,2,2,1])\n",
        "returned_value = look_and_say(arr)\n",
        "print(f'Bonus Task: {returned_value}') # This should print [1,1,1,3,2,1,3,2,1,1]\n",
        "#Hint: The size of the new array will never be more than 100.\n",
        "#[You need not worry about the extra zeroes at the end of your resulting array]\n"
      ],
      "metadata": {
        "id": "sTJ7GNezm6uu",
        "colab": {
          "base_uri": "https://localhost:8080/",
          "height": 140
        },
        "outputId": "a38540af-153c-4c46-f34c-217bd25ce0f1"
      },
      "execution_count": null,
      "outputs": [
        {
          "output_type": "error",
          "ename": "IndentationError",
          "evalue": "expected an indented block after function definition on line 2 (<ipython-input-6-527f9d5da20d>, line 6)",
          "traceback": [
            "\u001b[0;36m  File \u001b[0;32m\"<ipython-input-6-527f9d5da20d>\"\u001b[0;36m, line \u001b[0;32m6\u001b[0m\n\u001b[0;31m    print(\"///  Bonus Task: Look and Say  ///\")\u001b[0m\n\u001b[0m    ^\u001b[0m\n\u001b[0;31mIndentationError\u001b[0m\u001b[0;31m:\u001b[0m expected an indented block after function definition on line 2\n"
          ]
        }
      ]
    },
    {
      "cell_type": "markdown",
      "source": [
        "For Assignment Part-1, you can create new code cells in the below and write your codes there. Also you should write driver codes to test your code for part-1."
      ],
      "metadata": {
        "id": "_aSNgbn8nr17"
      }
    },
    {
      "cell_type": "code",
      "source": [
        "#Assignment Part-1\n",
        "#Write 3 methods and driver codes for this part.\n",
        "\n",
        "import math\n",
        "\n",
        "def MeanCalc(arr):\n",
        "    sum = 0\n",
        "    for i in arr:\n",
        "        sum+=i\n",
        "    mean = sum/len(arr)\n",
        "    return mean\n",
        "def StndDev(arr):\n",
        "    arr_mean = MeanCalc(arr)\n",
        "    sumx = 0\n",
        "    for i in arr:\n",
        "        sumx+= (i-arr_mean)**2\n",
        "    StDv = (sumx/(len(arr)-1))**0.5\n",
        "    return StDv\n",
        "\n",
        "\n",
        "def newArr(arr, min, StDv):\n",
        "    temp = np.array([None]*len(arr))\n",
        "    count = 0\n",
        "    for i in range(len(arr)):\n",
        "        if abs(arr[i] - min) >= StDv*1.5:\n",
        "            temp[count] = arr[i]\n",
        "            count += 1\n",
        "\n",
        "    count = 0\n",
        "    for i in temp:\n",
        "        if i == None:\n",
        "            break\n",
        "        if i is not None:\n",
        "            count += 1\n",
        "    if count == 0:\n",
        "        return None\n",
        "\n",
        "    new = np.empty(count, dtype = int)\n",
        "    for i in range(count):\n",
        "        new[i] = temp[i]\n",
        "    return new\n",
        "\n",
        "arr = np.array([10, 8, 13, 9, 14, 25, -5, 20, 7, 7, 4])\n",
        "print(f\"The mean of the numbers is: {MeanCalc(arr)}\")\n",
        "print(f\"The standard deviation is: {StndDev(arr)}\")\n",
        "print(f\"New Array: {newArr(arr, MeanCalc(arr), StndDev(arr))}\")"
      ],
      "metadata": {
        "id": "CxJHbg7onWwN",
        "colab": {
          "base_uri": "https://localhost:8080/"
        },
        "outputId": "3639ad18-dc55-4e9d-eb8e-325da7caa9a1"
      },
      "execution_count": null,
      "outputs": [
        {
          "output_type": "stream",
          "name": "stdout",
          "text": [
            "The mean of the numbers is: 10.181818181818182\n",
            "The standard deviation is: 7.960127911260996\n",
            "New Array: [25 -5]\n"
          ]
        }
      ]
    },
    {
      "cell_type": "code",
      "source": [],
      "metadata": {
        "id": "s-dXmnPUuJqu"
      },
      "execution_count": null,
      "outputs": []
    },
    {
      "cell_type": "code",
      "source": [],
      "metadata": {
        "id": "dPNvUeF70Ou-"
      },
      "execution_count": null,
      "outputs": []
    }
  ]
}